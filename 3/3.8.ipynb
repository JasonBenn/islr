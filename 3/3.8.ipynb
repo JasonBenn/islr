{
 "cells": [
  {
   "cell_type": "code",
<<<<<<< HEAD
   "execution_count": 32,
=======
   "execution_count": 1,
>>>>>>> Installed R.
   "metadata": {
    "collapsed": false
   },
   "outputs": [
    {
     "name": "stdout",
     "output_type": "stream",
     "text": [
      "(397, 9)\n"
     ]
    }
   ],
   "source": [
    "# Simple linear regression on Auto data set.\n",
    "\n",
    "from __future__ import division\n",
    "import numpy as np\n",
    "import pandas as pd\n",
    "import matplotlib.pyplot as plt\n",
    "%matplotlib inline\n",
    "\n",
    "autos = pd.read_csv('../data/Auto.csv')\n",
    "print autos.shape\n",
    "num_rows, num_cols = autos.shape"
   ]
  },
  {
   "cell_type": "code",
<<<<<<< HEAD
   "execution_count": 33,
=======
   "execution_count": 8,
>>>>>>> Installed R.
   "metadata": {
    "collapsed": true
   },
   "outputs": [],
   "source": [
    "from sklearn import linear_model\n",
    "regr = linear_model.LinearRegression()"
   ]
  },
  {
   "cell_type": "code",
<<<<<<< HEAD
   "execution_count": 34,
=======
   "execution_count": 3,
>>>>>>> Installed R.
   "metadata": {
    "collapsed": false
   },
   "outputs": [],
   "source": [
    "# autos_X = autos[['mpg', 'horsepower']]\n",
    "# autos_y = autos['mpg']\n",
    "\n",
    "# divider_row = int(num_rows * .8)\n",
    "\n",
    "# autos_X_train = autos_X[:divider_row]\n",
    "# autos_X_test = autos_X[divider_row:]\n",
    "\n",
    "# autos_y_train = autos_y[:divider_row]\n",
    "# autos_y_test = autos_y[divider_row:]\n",
    "\n",
    "# # Ah, crap. When I linear_regression.fit(autos_X_train.as_matrix(), autos_y_train.as_matrix), I get:\n",
    "# # ValueError: could not convert string to float: ?"
   ]
  },
  {
   "cell_type": "code",
<<<<<<< HEAD
   "execution_count": 35,
=======
   "execution_count": 4,
>>>>>>> Installed R.
   "metadata": {
    "collapsed": false
   },
   "outputs": [],
   "source": [
    "# # What the f? I found a similar example in scikit-learn's documentation:\n",
    "# # http://scikit-learn.org/stable/auto_examples/linear_model/plot_ols.html#example-linear-model-plot-ols-py\n",
    "# # Are the argument types they're passing to LinearRegression#fit the same argument types I'm passing?\n",
    "\n",
    "# import matplotlib.pyplot as plt\n",
    "# import numpy as np\n",
    "# from sklearn import datasets, linear_model\n",
    "\n",
    "# # Load the diabetes dataset\n",
    "# diabetes = datasets.load_diabetes()\n",
    "\n",
    "\n",
    "# # Use only one feature\n",
    "# diabetes_X = diabetes.data[:, np.newaxis, 2]\n",
    "\n",
    "# # Split the data into training/testing sets\n",
    "# diabetes_X_train = diabetes_X[:-20]\n",
    "# diabetes_X_test = diabetes_X[-20:]\n",
    "\n",
    "# # Split the targets into training/testing sets\n",
    "# diabetes_y_train = diabetes.target[:-20]\n",
    "# diabetes_y_test = diabetes.target[-20:]\n",
    "\n",
    "# # Create linear regression object\n",
    "# regr = linear_model.LinearRegression()\n",
    "\n",
    "# # Train the model using the training sets\n",
    "# regr.fit(diabetes_X_train, diabetes_y_train)\n",
    "\n",
    "# # # The coefficients\n",
    "# # print('Coefficients: \\n', regr.coef_)\n",
    "# # # The mean square error\n",
    "# # print(\"Residual sum of squares: %.2f\"\n",
    "# #       % np.mean((regr.predict(diabetes_X_test) - diabetes_y_test) ** 2))\n",
    "# # # Explained variance score: 1 is perfect prediction\n",
    "# # print('Variance score: %.2f' % regr.score(diabetes_X_test, diabetes_y_test))\n",
    "\n",
    "# # # Plot outputs\n",
    "# # plt.scatter(diabetes_X_test, diabetes_y_test,  color='black')\n",
    "# # plt.plot(diabetes_X_test, regr.predict(diabetes_X_test), color='blue',\n",
    "# #          linewidth=3)\n",
    "\n",
    "# # plt.xticks(())\n",
    "# # plt.yticks(())\n",
    "\n",
    "# # plt.show()\n",
    "\n",
    "# print type(autos_y_train.as_matrix()) == type(diabetes_y_train)\n",
    "# print type(autos_X_train.as_matrix()) == type(diabetes_X_train)\n",
    "\n",
    "# # Answer: yes."
   ]
  },
  {
   "cell_type": "code",
<<<<<<< HEAD
   "execution_count": 36,
=======
   "execution_count": 5,
>>>>>>> Installed R.
   "metadata": {
    "collapsed": false
   },
   "outputs": [],
   "source": [
    "# # Reading the error again, I think this is because some columns of values are strings instead of ints. Converting:\n",
    "\n",
    "# mpg = autos['mpg']\n",
    "# mpg = mpg.map(lambda row: int(row)) # map is non-destructive\n",
    "# # print mpg.map(lambda row: type(row)) # returns a bunch of ints, good.\n",
    "\n",
    "# # Generalizing to autos:\n",
    "# autos['mpg'] = autos['mpg'].map(lambda mpg: int(mpg))\n",
    "# # autos['horsepower'] = autos['horsepower'].map(lambda mpg: int(mpg)) # ValueError: invalid literal for int() with base 10: '?'\n",
    "# # Damn, there's a '?' in horsepower somewhere."
   ]
  },
  {
   "cell_type": "code",
<<<<<<< HEAD
   "execution_count": 37,
=======
   "execution_count": 9,
>>>>>>> Installed R.
   "metadata": {
    "collapsed": false
   },
   "outputs": [
    {
     "name": "stdout",
     "output_type": "stream",
     "text": [
      "(392, 9)\n"
     ]
    }
   ],
   "source": [
    "autos = pd.read_csv('../data/Auto.csv') # Start over with fresh data\n",
    "\n",
    "# Filter out bad rows\n",
    "autos = autos.ix[lambda row: row.horsepower != '?']\n",
    "\n",
    "print autos.shape\n",
    "\n",
    "# Cast horsepower to ints\n",
    "autos['horsepower'] = autos['horsepower'].map(lambda mpg: int(mpg))"
   ]
  },
  {
   "cell_type": "code",
<<<<<<< HEAD
   "execution_count": 41,
=======
   "execution_count": 10,
>>>>>>> Installed R.
   "metadata": {
    "collapsed": false
   },
   "outputs": [
    {
     "data": {
      "text/plain": [
       "LinearRegression(copy_X=True, fit_intercept=True, n_jobs=1, normalize=False)"
      ]
     },
<<<<<<< HEAD
     "execution_count": 41,
=======
     "execution_count": 10,
>>>>>>> Installed R.
     "metadata": {},
     "output_type": "execute_result"
    }
   ],
   "source": [
    "# Now it should work...\n",
    "autos_x = autos[['horsepower']]\n",
    "autos_y = autos[['mpg']]\n",
    "\n",
    "# divider_row = int(num_rows * .8)\n",
    "\n",
    "# autos_X_train = autos_X[:divider_row].as_matrix()\n",
    "# autos_X_test = autos_X[divider_row:].as_matrix()\n",
    "\n",
    "# autos_y_train = autos_y[:divider_row].as_matrix()\n",
    "# autos_y_test = autos_y[divider_row:].as_matrix()\n",
    "\n",
    "regr.fit(autos_x, autos_y)"
   ]
  },
  {
   "cell_type": "code",
   "execution_count": 42,
   "metadata": {
    "collapsed": false
   },
   "outputs": [
    {
     "data": {
      "text/plain": [
       "array([[-0.15784473]])"
      ]
     },
     "execution_count": 42,
     "metadata": {},
     "output_type": "execute_result"
    }
   ],
   "source": [
    "regr.coef_"
   ]
  },
  {
   "cell_type": "code",
   "execution_count": 44,
   "metadata": {
    "collapsed": false
   },
   "outputs": [
    {
     "data": {
      "image/png": "iVBORw0KGgoAAAANSUhEUgAAAV0AAADtCAYAAAAcNaZ2AAAABHNCSVQICAgIfAhkiAAAAAlwSFlz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\n+f8dtasr/P8p9QAAAABJRU5ErkJggg==\n",
      "text/plain": [
       "<matplotlib.figure.Figure at 0x11bb2e990>"
      ]
     },
     "metadata": {},
     "output_type": "display_data"
    }
   ],
   "source": [
    "# # Copied from scikit-learn docs...\n",
    "# print('Coefficients: \\n', regr.coef_)\n",
    "# # The mean square error\n",
    "# print(\"Residual sum of squares: %.2f\" % np.mean((regr.predict(autos_X_test) - autos_y_test) ** 2))\n",
    "# # Explained variance score: 1 is perfect prediction\n",
    "# print('Variance score: %.2f' % regr.score(autos_X_test, autos_y_test))\n",
    "\n",
    "# # Plot outputs\n",
    "# # print autos_X_test.shape\n",
    "# # print autos_y_test.shape\n",
    "\n",
    "# # First attempt gave `ValueError: x and y must be the same size`:\n",
    "# # plt.scatter(autos_X_test, autos_y_test, color='black')\n",
    "# # Because autos_X_test is of shape (75, 2) and autos_y_test is of shape (75,). autos_X_test contains both columns of data- just grab each as a vector and plot those.\n",
    "plt.scatter(autos_x, autos_y, color='black')\n",
    "\n",
    "plt.plot(autos_x, regr.predict(autos_x), color='blue', linewidth=3)\n",
    "\n",
    "plt.xticks(())\n",
    "plt.yticks(())\n",
    "\n",
    "plt.show()"
   ]
  },
  {
   "cell_type": "code",
   "execution_count": 49,
   "metadata": {
    "collapsed": false
   },
   "outputs": [
    {
     "data": {
      "text/plain": [
       "LinearRegression(copy_X=True, fit_intercept=True, n_jobs=1, normalize=False)"
      ]
     },
     "execution_count": 49,
     "metadata": {},
     "output_type": "execute_result"
    }
   ],
   "source": [
    "autos_x2 = autos_x * autos_x\n",
    "autos_x2\n",
    "x2_fit = linear_model.LinearRegression()\n",
    "x2_fit.fit(autos_x2, autos_y)"
   ]
  },
  {
   "cell_type": "code",
   "execution_count": 53,
   "metadata": {
    "collapsed": false
   },
   "outputs": [
    {
     "data": {
      "image/png": "iVBORw0KGgoAAAANSUhEUgAAAV0AAADtCAYAAAAcNaZ2AAAABHNCSVQICAgIfAhkiAAAAAlwSFlz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\nEboAoIjQBQBFhC4AKCJ0AUDR/wDV/DbX0bGAsgAAAABJRU5ErkJggg==\n",
      "text/plain": [
       "<matplotlib.figure.Figure at 0x11bb2ec10>"
      ]
     },
     "metadata": {},
     "output_type": "display_data"
    }
   ],
   "source": [
<<<<<<< HEAD
    "plt.scatter(autos_x, autos_y, color='black')\n",
    "\n",
    "plt.plot(autos_x, x2_fit.predict(autos_x2), color='blue', linewidth=3)\n",
=======
    "# Copied from scikit-learn docs...\n",
    "print('Coefficients: \\n', regr.coef_)\n",
    "# The mean square error\n",
    "print(\"Residual sum of squares: %.2f\" % np.mean((regr.predict(autos_X_test) - autos_y_test) ** 2))\n",
    "# Explained variance score: 1 is perfect prediction\n",
    "print('Variance score: %.2f' % regr.score(autos_X_test, autos_y_test))\n",
    "\n",
    "# Plot outputs\n",
    "print autos_X_test.shape\n",
    "print autos_y_test.shape\n",
    "\n",
    "# First attempt gave `ValueError: x and y must be the same size`:\n",
    "# plt.scatter(autos_X_test, autos_y_test, color='black')\n",
    "# Because autos_X_test is of shape (75, 2) and autos_y_test is of shape (75,). autos_X_test contains both columns of data- just grab each as a vector and plot those.\n",
    "plt.scatter(autos_X_test[:, 0], autos_X_test[:, 1], color='black')\n",
    "\n",
    "# plt.plot(autos_X_test, regr.predict(autos_X_test), color='blue', linewidth=3)\n",
>>>>>>> Installed R.
    "\n",
    "plt.xticks(())\n",
    "plt.yticks(())\n",
    "\n",
    "plt.show()"
   ]
  },
  {
   "cell_type": "code",
   "execution_count": null,
   "metadata": {
    "collapsed": true
   },
   "outputs": [],
   "source": []
  }
 ],
 "metadata": {
  "kernelspec": {
   "display_name": "Python 2",
   "language": "python",
   "name": "python2"
  },
  "language_info": {
   "codemirror_mode": {
    "name": "ipython",
    "version": 2
   },
   "file_extension": ".py",
   "mimetype": "text/x-python",
   "name": "python",
   "nbconvert_exporter": "python",
   "pygments_lexer": "ipython2",
   "version": "2.7.11"
  }
 },
 "nbformat": 4,
 "nbformat_minor": 0
}
