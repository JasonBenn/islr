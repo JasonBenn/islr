{
 "cells": [
  {
   "cell_type": "code",
   "execution_count": 173,
   "metadata": {
    "collapsed": false
   },
   "outputs": [
    {
     "name": "stdout",
     "output_type": "stream",
     "text": [
      "(397, 9)\n"
     ]
    }
   ],
   "source": [
    "# Simple linear regression on Auto data set.\n",
    "\n",
    "from __future__ import division\n",
    "import numpy as np\n",
    "import pandas as pd\n",
    "import matplotlib.pyplot as plt\n",
    "%matplotlib inline\n",
    "\n",
    "autos = pd.read_csv('../data/Auto.csv')\n",
    "print autos.shape\n",
    "num_rows, num_cols = autos.shape"
   ]
  },
  {
   "cell_type": "code",
   "execution_count": 174,
   "metadata": {
    "collapsed": true
   },
   "outputs": [],
   "source": [
    "from sklearn import linear_model\n",
    "linear_regression = linear_model.LinearRegression()"
   ]
  },
  {
   "cell_type": "code",
   "execution_count": 175,
   "metadata": {
    "collapsed": false
   },
   "outputs": [],
   "source": [
    "autos_X = autos[['mpg', 'horsepower']]\n",
    "autos_y = autos['mpg']\n",
    "\n",
    "divider_row = int(num_rows * .8)\n",
    "\n",
    "autos_X_train = autos_X[:divider_row]\n",
    "autos_X_test = autos_X[divider_row:]\n",
    "\n",
    "autos_y_train = autos_y[:divider_row]\n",
    "autos_y_test = autos_y[divider_row:]\n",
    "\n",
    "# Ah, crap. When I linear_regression.fit(autos_X_train.as_matrix(), autos_y_train.as_matrix), I get:\n",
    "# ValueError: could not convert string to float: ?"
   ]
  },
  {
   "cell_type": "code",
   "execution_count": 176,
   "metadata": {
    "collapsed": false
   },
   "outputs": [
    {
     "name": "stdout",
     "output_type": "stream",
     "text": [
      "True\n",
      "True\n"
     ]
    }
   ],
   "source": [
    "# What the f? I found a similar example in scikit-learn's documentation:\n",
    "# http://scikit-learn.org/stable/auto_examples/linear_model/plot_ols.html#example-linear-model-plot-ols-py\n",
    "# Are the argument types they're passing to LinearRegression#fit the same argument types I'm passing?\n",
    "\n",
    "import matplotlib.pyplot as plt\n",
    "import numpy as np\n",
    "from sklearn import datasets, linear_model\n",
    "\n",
    "# Load the diabetes dataset\n",
    "diabetes = datasets.load_diabetes()\n",
    "\n",
    "\n",
    "# Use only one feature\n",
    "diabetes_X = diabetes.data[:, np.newaxis, 2]\n",
    "\n",
    "# Split the data into training/testing sets\n",
    "diabetes_X_train = diabetes_X[:-20]\n",
    "diabetes_X_test = diabetes_X[-20:]\n",
    "\n",
    "# Split the targets into training/testing sets\n",
    "diabetes_y_train = diabetes.target[:-20]\n",
    "diabetes_y_test = diabetes.target[-20:]\n",
    "\n",
    "# Create linear regression object\n",
    "regr = linear_model.LinearRegression()\n",
    "\n",
    "# Train the model using the training sets\n",
    "regr.fit(diabetes_X_train, diabetes_y_train)\n",
    "\n",
    "# # The coefficients\n",
    "# print('Coefficients: \\n', regr.coef_)\n",
    "# # The mean square error\n",
    "# print(\"Residual sum of squares: %.2f\"\n",
    "#       % np.mean((regr.predict(diabetes_X_test) - diabetes_y_test) ** 2))\n",
    "# # Explained variance score: 1 is perfect prediction\n",
    "# print('Variance score: %.2f' % regr.score(diabetes_X_test, diabetes_y_test))\n",
    "\n",
    "# # Plot outputs\n",
    "# plt.scatter(diabetes_X_test, diabetes_y_test,  color='black')\n",
    "# plt.plot(diabetes_X_test, regr.predict(diabetes_X_test), color='blue',\n",
    "#          linewidth=3)\n",
    "\n",
    "# plt.xticks(())\n",
    "# plt.yticks(())\n",
    "\n",
    "# plt.show()\n",
    "\n",
    "print type(autos_y_train.as_matrix()) == type(diabetes_y_train)\n",
    "print type(autos_X_train.as_matrix()) == type(diabetes_X_train)\n",
    "\n",
    "# Answer: yes."
   ]
  },
  {
   "cell_type": "code",
   "execution_count": 181,
   "metadata": {
    "collapsed": false
   },
   "outputs": [],
   "source": [
    "# Reading the error again, I think this is because some columns of values are strings instead of ints. Converting:\n",
    "\n",
    "mpg = autos['mpg']\n",
    "mpg = mpg.map(lambda row: int(row)) # map is non-destructive\n",
    "# print mpg.map(lambda row: type(row)) # returns a bunch of ints, good.\n",
    "\n",
    "# Generalizing to autos:\n",
    "autos['mpg'] = autos['mpg'].map(lambda mpg: int(mpg))\n",
    "# autos['horsepower'] = autos['horsepower'].map(lambda mpg: int(mpg)) # ValueError: invalid literal for int() with base 10: '?'\n",
    "# Damn, there's a '?' in horsepower somewhere."
   ]
  },
  {
   "cell_type": "code",
   "execution_count": 183,
   "metadata": {
    "collapsed": false
   },
   "outputs": [
    {
     "name": "stdout",
     "output_type": "stream",
     "text": [
      "(392, 9)\n"
     ]
    }
   ],
   "source": [
    "autos = pd.read_csv('../data/Auto.csv') # Start over with fresh data\n",
    "\n",
    "# Filter out bad rows\n",
    "autos = autos.ix[lambda row: row.horsepower != '?']\n",
    "\n",
    "print autos.shape\n",
    "\n",
    "# Cast horsepower to ints\n",
    "autos['horsepower'] = autos['horsepower'].map(lambda mpg: int(mpg))"
   ]
  },
  {
   "cell_type": "code",
   "execution_count": 184,
   "metadata": {
    "collapsed": false
   },
   "outputs": [
    {
     "data": {
      "text/plain": [
       "LinearRegression(copy_X=True, fit_intercept=True, n_jobs=1, normalize=False)"
      ]
     },
     "execution_count": 184,
     "metadata": {},
     "output_type": "execute_result"
    }
   ],
   "source": [
    "# Now it should work...\n",
    "autos_X = autos[['mpg', 'horsepower']]\n",
    "autos_y = autos['mpg']\n",
    "\n",
    "divider_row = int(num_rows * .8)\n",
    "\n",
    "autos_X_train = autos_X[:divider_row].as_matrix()\n",
    "autos_X_test = autos_X[divider_row:].as_matrix()\n",
    "\n",
    "autos_y_train = autos_y[:divider_row].as_matrix()\n",
    "autos_y_test = autos_y[divider_row:].as_matrix()\n",
    "\n",
    "regr.fit(autos_X_train, autos_y_train)"
   ]
  },
  {
   "cell_type": "code",
   "execution_count": 185,
   "metadata": {
    "collapsed": false
   },
   "outputs": [
    {
     "name": "stdout",
     "output_type": "stream",
     "text": [
      "('Coefficients: \\n', array([ 1.,  0.]))\n",
      "Residual sum of squares: 0.00\n",
      "Variance score: 1.00\n",
      "(75, 2)\n",
      "(75,)\n"
     ]
    },
    {
     "data": {
      "image/png": "[encoded data removed]",
      "text/plain": [
       "<matplotlib.figure.Figure at 0x1207cb510>"
      ]
     },
     "metadata": {},
     "output_type": "display_data"
    }
   ],
   "source": [
    "# Copied from scikit-learn docs...\n",
    "print('Coefficients: \\n', regr.coef_)\n",
    "# The mean square error\n",
    "print(\"Residual sum of squares: %.2f\" % np.mean((regr.predict(autos_X_test) - autos_y_test) ** 2))\n",
    "# Explained variance score: 1 is perfect prediction\n",
    "print('Variance score: %.2f' % regr.score(autos_X_test, autos_y_test))\n",
    "\n",
    "# Plot outputs\n",
    "print autos_X_test.shape\n",
    "print autos_y_test.shape\n",
    "\n",
    "# First attempt gave `ValueError: x and y must be the same size`:\n",
    "# plt.scatter(autos_X_test, autos_y_test, color='black')\n",
    "# Because autos_X_test is of shape (75, 2) and autos_y_test is of shape (75,). autos_X_test contains both columns of data- just grab each as a vector and plot those.\n",
    "plt.scatter(autos_X_test[:, 0], autos_X_test[:, 1], color='black')\n",
    "\n",
    "plt.plot(autos_X_test, regr.predict(autos_X_test), color='blue', linewidth=3)\n",
    "\n",
    "plt.xticks(())\n",
    "plt.yticks(())\n",
    "\n",
    "plt.show()"
   ]
  },
  {
   "cell_type": "code",
   "execution_count": null,
   "metadata": {
    "collapsed": true
   },
   "outputs": [],
   "source": []
  }
 ],
 "metadata": {
  "kernelspec": {
   "display_name": "Python 2",
   "language": "python",
   "name": "python2"
  },
  "language_info": {
   "codemirror_mode": {
    "name": "ipython",
    "version": 2
   },
   "file_extension": ".py",
   "mimetype": "text/x-python",
   "name": "python",
   "nbconvert_exporter": "python",
   "pygments_lexer": "ipython2",
   "version": "2.7.11"
  }
 },
 "nbformat": 4,
 "nbformat_minor": 0
}
